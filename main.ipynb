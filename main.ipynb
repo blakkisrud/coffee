{
 "cells": [
  {
   "cell_type": "code",
   "execution_count": 2,
   "metadata": {
    "collapsed": true
   },
   "outputs": [],
   "source": [
    "import numpy as np\n",
    "import matplotlib.pyplot as plt"
   ]
  },
  {
   "cell_type": "code",
   "execution_count": 3,
   "metadata": {
    "collapsed": false
   },
   "outputs": [],
   "source": [
    "data_file = 'coffea_gene.txt'\n",
    "\n",
    "raw_data = np.loadtxt(data_file, dtype='str')\n",
    "\n"
   ]
  },
  {
   "cell_type": "code",
   "execution_count": 4,
   "metadata": {
    "collapsed": false
   },
   "outputs": [
    {
     "name": "stdout",
     "output_type": "stream",
     "text": [
      "51148\n"
     ]
    }
   ],
   "source": [
    "#print raw_data[0:50]\n",
    "\n",
    "# The data is name of gene:basepars:name of gene:basepars: and so on...\n",
    "\n",
    "print len(raw_data) # 50 000, double of the size, NICE!\n",
    "\n",
    "total_bases = 0\n",
    "\n",
    "for i in range(1,51149,2):\n",
    "    \n",
    "    total_bases = total_bases + len(raw_data[i])\n",
    "    \n"
   ]
  },
  {
   "cell_type": "code",
   "execution_count": null,
   "metadata": {
    "collapsed": false
   },
   "outputs": [],
   "source": [
    "tot_bases = total_bases\n",
    "sides_in_square = int(np.floor(np.sqrt(tot_bases)))\n",
    "print sides_in_square\n",
    "\n",
    "square_canvas = np.zeros([sides_in_square, sides_in_square])\n",
    "\n",
    "print np.shape(square_canvas)\n",
    "len_of_genome = 51149\n",
    "\n",
    "def base_to_num(base):\n",
    "    \n",
    "    if base == 'A':\n",
    "        \n",
    "        return 0.1\n",
    "    \n",
    "    if base == 'T':\n",
    "        \n",
    "        return 0.5\n",
    "    \n",
    "    if base == 'G':\n",
    "        \n",
    "        return 0.8\n",
    "    \n",
    "    if base == 'C':\n",
    "        \n",
    "        return 1\n",
    "    \n",
    "    return 0\n",
    "\n",
    "lin_index = 0\n",
    "\n",
    "for i in range(1,len_of_genome-50,2):\n",
    "    \n",
    "    gene_seq = raw_data[i]\n",
    "    \n",
    "    for j in range(len(gene_seq)):\n",
    "        \n",
    "        square_canvas.flat[lin_index] = base_to_num(gene_seq[j])\n",
    "        lin_index = lin_index + 1\n",
    "\n",
    "print lin_index\n",
    "plt.figure()\n",
    "plt.imshow(square_canvas)\n",
    "plt.show()\n"
   ]
  },
  {
   "cell_type": "code",
   "execution_count": null,
   "metadata": {
    "collapsed": true
   },
   "outputs": [],
   "source": [
    "# A-ok, now lets set up some colors\n",
    "\n",
    "col1 = ['#edf8fb','#b2e2e2','#66c2a4','#238b45']\n",
    "['#edf8fb','#b3cde3','#8c96c6','#88419d']\n",
    "\n"
   ]
  },
  {
   "cell_type": "code",
   "execution_count": null,
   "metadata": {
    "collapsed": false
   },
   "outputs": [],
   "source": [
    "print np.sum(square_canvas[0,5])\n",
    "plt.figure()\n",
    "plt.imshow(square_canvas)\n",
    "plt.show()\n"
   ]
  }
 ],
 "metadata": {
  "anaconda-cloud": {},
  "kernelspec": {
   "display_name": "Python [conda root]",
   "language": "python",
   "name": "conda-root-py"
  },
  "language_info": {
   "codemirror_mode": {
    "name": "ipython",
    "version": 2
   },
   "file_extension": ".py",
   "mimetype": "text/x-python",
   "name": "python",
   "nbconvert_exporter": "python",
   "pygments_lexer": "ipython2",
   "version": "2.7.12"
  }
 },
 "nbformat": 4,
 "nbformat_minor": 1
}
